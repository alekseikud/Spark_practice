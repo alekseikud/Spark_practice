{
 "cells": [
  {
   "metadata": {},
   "cell_type": "markdown",
   "source": "# Imports",
   "id": "2530bb5307d85c10"
  },
  {
   "metadata": {
    "ExecuteTime": {
     "end_time": "2025-09-03T13:37:50.338871Z",
     "start_time": "2025-09-03T13:37:50.332565Z"
    }
   },
   "cell_type": "code",
   "source": [
    "from pyspark.sql import SparkSession,Window\n",
    "from pyspark.sql.functions import col,dense_rank,when,rank"
   ],
   "id": "c6661b60b226f14b",
   "outputs": [],
   "execution_count": 153
  },
  {
   "metadata": {},
   "cell_type": "markdown",
   "source": "# Configure connection",
   "id": "5fceb94326482547"
  },
  {
   "metadata": {
    "ExecuteTime": {
     "end_time": "2025-09-03T13:37:50.360003Z",
     "start_time": "2025-09-03T13:37:50.350161Z"
    }
   },
   "cell_type": "code",
   "source": [
    "spark=SparkSession.builder.appName(\"PagilaSpark\")\\\n",
    "    .config(\"spark.jars\", \"jars/postgresql-42.7.3.jar\")\\\n",
    "    .getOrCreate()\n",
    "jdbc_url = \"jdbc:postgresql://localhost:5432/postgres\"\n",
    "pg_properties = {\"user\": \"postgres\", \"password\": \"123456\", \"driver\": \"org.postgresql.Driver\"}\n"
   ],
   "id": "6fed35b7f72f619d",
   "outputs": [],
   "execution_count": 154
  },
  {
   "metadata": {},
   "cell_type": "markdown",
   "source": "# Adding all tables from DB",
   "id": "c15aad40623888c1"
  },
  {
   "metadata": {
    "ExecuteTime": {
     "end_time": "2025-09-03T13:37:50.655596Z",
     "start_time": "2025-09-03T13:37:50.365299Z"
    }
   },
   "cell_type": "code",
   "source": [
    "actor=spark.read.jdbc(url=jdbc_url,table=\"public.actor\",properties=pg_properties)\n",
    "address=spark.read.jdbc(url=jdbc_url,table=\"address\",properties=pg_properties)\n",
    "category=spark.read.jdbc(url=jdbc_url,table=\"category\",properties=pg_properties)\n",
    "city=spark.read.jdbc(url=jdbc_url,table=\"city\",properties=pg_properties)\n",
    "country=spark.read.jdbc(url=jdbc_url,table=\"country\",properties=pg_properties)\n",
    "customer=spark.read.jdbc(url=jdbc_url,table=\"customer\",properties=pg_properties)\n",
    "film=spark.read.jdbc(url=jdbc_url,table=\"film\",properties=pg_properties)\n",
    "film_actor=spark.read.jdbc(url=jdbc_url,table=\"film_actor\",properties=pg_properties)\n",
    "film_category=spark.read.jdbc(url=jdbc_url,table=\"film_category\",properties=pg_properties)\n",
    "inventory=spark.read.jdbc(url=jdbc_url,table=\"inventory\",properties=pg_properties)\n",
    "language=spark.read.jdbc(url=jdbc_url,table=\"language\",properties=pg_properties)\n",
    "payment=spark.read.jdbc(url=jdbc_url,table=\"payment\",properties=pg_properties)\n",
    "rental=spark.read.jdbc(url=jdbc_url,table=\"rental\",properties=pg_properties)\n"
   ],
   "id": "699e8fcc53d8463a",
   "outputs": [],
   "execution_count": 155
  },
  {
   "metadata": {},
   "cell_type": "markdown",
   "source": "**1 Task:** Output the number of movies in each category, sorted in descending order.",
   "id": "62a8d249e7026fad"
  },
  {
   "metadata": {
    "ExecuteTime": {
     "end_time": "2025-09-03T13:37:50.821861Z",
     "start_time": "2025-09-03T13:37:50.664043Z"
    }
   },
   "cell_type": "code",
   "source": [
    "category_counts=film_category.select(\"category_id\").groupBy(\"category_id\").count()\n",
    "task_1_result=category_counts.join(on=\"category_id\", how=\"inner\",other=category)\\\n",
    "                             .orderBy(col(\"count\").desc()).drop(\"last_update\")\\\n",
    "                             .withColumnRenamed(\"count\",\"number_of_films\")\\\n",
    "                             .withColumnRenamed(\"name\",\"category\")\n",
    "\n",
    "task_1_result.show()"
   ],
   "id": "9a37a9b1cf8f05f6",
   "outputs": [
    {
     "name": "stdout",
     "output_type": "stream",
     "text": [
      "+-----------+---------------+-----------+\n",
      "|category_id|number_of_films|   category|\n",
      "+-----------+---------------+-----------+\n",
      "|         12|            152|      Music|\n",
      "|          7|            152|      Drama|\n",
      "|         16|            151|     Travel|\n",
      "|          3|            150|   Children|\n",
      "|          9|            150|    Foreign|\n",
      "|         10|            150|      Games|\n",
      "|          1|            149|     Action|\n",
      "|         14|            149|     Sci-Fi|\n",
      "|          2|            148|  Animation|\n",
      "|         13|            147|        New|\n",
      "|          4|            147|   Classics|\n",
      "|          8|            147|     Family|\n",
      "|          6|            145|Documentary|\n",
      "|         15|            145|     Sports|\n",
      "|          5|            143|     Comedy|\n",
      "|         11|            142|     Horror|\n",
      "+-----------+---------------+-----------+\n",
      "\n"
     ]
    }
   ],
   "execution_count": 156
  },
  {
   "metadata": {},
   "cell_type": "markdown",
   "source": "**2 Task:** Output the 10 actors whose movies rented the most, sorted in descending order.",
   "id": "92e273f11cb14f7"
  },
  {
   "metadata": {
    "ExecuteTime": {
     "end_time": "2025-09-03T13:37:51.579995Z",
     "start_time": "2025-09-03T13:37:50.864505Z"
    }
   },
   "cell_type": "code",
   "source": [
    "film_actor_data=film_actor.select(\"film_id\",\"actor_id\")\\\n",
    "                          .join(actor.select(\"actor_id\",\"first_name\",\"last_name\"),on=\"actor_id\",how=\"inner\")\\\n",
    "                          .join(film.select(\"film_id\"),on=\"film_id\",how=\"inner\")\n",
    "film_rental_rate=rental.select(\"inventory_id\")\\\n",
    "                       .join(other=inventory.select(\"inventory_id\",\"film_id\"),on=\"inventory_id\",how=\"inner\")\\\n",
    "                       .groupBy(\"film_id\").count()\n",
    "task_2_result=film_actor_data.select(\"film_id\",\"actor_id\" ,\"first_name\", \"last_name\")\\\n",
    "                             .join(other=film_rental_rate,on=\"film_id\",how=\"inner\")\\\n",
    "                             .groupBy(\"actor_id\" ,\"first_name\", \"last_name\")\\\n",
    "                             .sum(\"count\").sort(col(\"sum(count)\").desc())\\\n",
    "                             .withColumnRenamed(\"sum(count)\",\"sum\").limit(10)\n",
    "task_2_result.show()\n"
   ],
   "id": "90bd1de18b97df42",
   "outputs": [
    {
     "name": "stdout",
     "output_type": "stream",
     "text": [
      "+--------+----------+-----------+---+\n",
      "|actor_id|first_name|  last_name|sum|\n",
      "+--------+----------+-----------+---+\n",
      "|     107|      GINA|  DEGENERES|753|\n",
      "|     181|   MATTHEW|     CARREY|678|\n",
      "|     198|      MARY|     KEITEL|674|\n",
      "|     144|    ANGELA|WITHERSPOON|654|\n",
      "|     102|    WALTER|       TORN|640|\n",
      "|      60|     HENRY|      BERRY|612|\n",
      "|     150|     JAYNE|      NOLTE|611|\n",
      "|      37|       VAL|     BOLGER|605|\n",
      "|      23|    SANDRA|     KILMER|604|\n",
      "|      90|      SEAN|    GUINESS|599|\n",
      "+--------+----------+-----------+---+\n",
      "\n"
     ]
    }
   ],
   "execution_count": 157
  },
  {
   "metadata": {},
   "cell_type": "markdown",
   "source": "**3 Task:** Output the category of movies on which the most money was spent.",
   "id": "ee60a5df94e796a1"
  },
  {
   "metadata": {
    "ExecuteTime": {
     "end_time": "2025-09-03T13:37:52.150396Z",
     "start_time": "2025-09-03T13:37:51.628182Z"
    }
   },
   "cell_type": "code",
   "source": [
    "task_3_result=payment.select(\"amount\",\"rental_id\")\\\n",
    "                     .join(other=rental,on=\"rental_id\",how=\"inner\")\\\n",
    "                     .join(other=inventory,on=\"inventory_id\",how=\"inner\")\\\n",
    "                     .join(other=film_category,on=\"film_id\",how=\"inner\")\\\n",
    "                     .join(other=category,on=\"category_id\",how=\"inner\")\\\n",
    "                     .groupBy(\"category_id\",\"name\").sum(\"amount\").orderBy(col(\"sum(amount)\").desc())\\\n",
    "                     .select(\"name\").limit(1)\n",
    "task_3_result.show()"
   ],
   "id": "5d41af732c2ed961",
   "outputs": [
    {
     "name": "stdout",
     "output_type": "stream",
     "text": [
      "+-------+\n",
      "|   name|\n",
      "+-------+\n",
      "|Foreign|\n",
      "+-------+\n",
      "\n"
     ]
    }
   ],
   "execution_count": 158
  },
  {
   "metadata": {},
   "cell_type": "markdown",
   "source": "**4 Task** Output the names of movies that are not in the inventory.",
   "id": "137294489890cb09"
  },
  {
   "metadata": {
    "ExecuteTime": {
     "end_time": "2025-09-03T13:37:52.313855Z",
     "start_time": "2025-09-03T13:37:52.174416Z"
    }
   },
   "cell_type": "code",
   "source": [
    "task_4_result=film.join(other=inventory,on=\"film_id\",how=\"left_anti\").select(\"title\")\n",
    "task_4_result.show()"
   ],
   "id": "26dcf3425129f04e",
   "outputs": [
    {
     "name": "stdout",
     "output_type": "stream",
     "text": [
      "+--------------------+\n",
      "|               title|\n",
      "+--------------------+\n",
      "|      CHOCOLATE DUCK|\n",
      "|       BUTCH PANTHER|\n",
      "|        VOLUME HOUSE|\n",
      "|      ORDER BETRAYED|\n",
      "|        TADPOLE PARK|\n",
      "|    KILL BROTHERHOOD|\n",
      "|FRANKENSTEIN STRA...|\n",
      "|    CROSSING DIVORCE|\n",
      "|    SUICIDES SILENCE|\n",
      "|       CATCH AMISTAD|\n",
      "|     PERDITION FARGO|\n",
      "|       FLOATS GARDEN|\n",
      "|           GUMP DATE|\n",
      "|        WALLS ARTIST|\n",
      "|  GLADIATOR WESTWARD|\n",
      "|         HOCUS FRIDA|\n",
      "|ARSENIC INDEPENDENCE|\n",
      "|         MUPPET MILE|\n",
      "|   FIREHOUSE VIETNAM|\n",
      "|       ROOF CHAMPION|\n",
      "+--------------------+\n",
      "only showing top 20 rows\n"
     ]
    }
   ],
   "execution_count": 159
  },
  {
   "metadata": {},
   "cell_type": "markdown",
   "source": "**5 Task** Output the top 3 actors who have appeared most in movies in the “Children” category. If several actors have the same number of movies, output all of them.",
   "id": "964198e06b836827"
  },
  {
   "metadata": {
    "ExecuteTime": {
     "end_time": "2025-09-03T13:37:52.859457Z",
     "start_time": "2025-09-03T13:37:52.338834Z"
    }
   },
   "cell_type": "code",
   "source": [
    "all_movies = film_category.join(other=category.filter(\"name='Children'\")\\\n",
    "                                ,on=\"category_id\",how=\"inner\").select(\"film_id\")\n",
    "film_count = film_actor.join(other=all_movies,on=\"film_id\",how=\"inner\")\\\n",
    "                       .groupBy(\"actor_id\").count()\n",
    "\n",
    "window1=Window.orderBy(col(\"count\").desc()).rowsBetween(Window.unboundedPreceding, Window.currentRow)\n",
    "task_5_result = actor.join(other=film_count,on=\"actor_id\",how=\"left\")\\\n",
    "                     .select(\"first_name\", \"last_name\", \"count\").fillna(-1)\\\n",
    "                     .withColumn(\"rank\",dense_rank().over(window1))\\\n",
    "                     .filter(col(\"rank\")<=3)\n",
    "task_5_result.show(task_5_result.count())"
   ],
   "id": "50a9edfb04bc5233",
   "outputs": [
    {
     "name": "stderr",
     "output_type": "stream",
     "text": [
      "25/09/03 15:37:52 WARN WindowExec: No Partition Defined for Window operation! Moving all data to a single partition, this can cause serious performance degradation.\n",
      "25/09/03 15:37:52 WARN WindowExec: No Partition Defined for Window operation! Moving all data to a single partition, this can cause serious performance degradation.\n",
      "25/09/03 15:37:52 WARN WindowExec: No Partition Defined for Window operation! Moving all data to a single partition, this can cause serious performance degradation.\n",
      "25/09/03 15:37:52 WARN WindowExec: No Partition Defined for Window operation! Moving all data to a single partition, this can cause serious performance degradation.\n",
      "25/09/03 15:37:52 WARN WindowExec: No Partition Defined for Window operation! Moving all data to a single partition, this can cause serious performance degradation.\n",
      "25/09/03 15:37:52 WARN WindowExec: No Partition Defined for Window operation! Moving all data to a single partition, this can cause serious performance degradation.\n",
      "25/09/03 15:37:52 WARN WindowExec: No Partition Defined for Window operation! Moving all data to a single partition, this can cause serious performance degradation.\n",
      "25/09/03 15:37:52 WARN WindowExec: No Partition Defined for Window operation! Moving all data to a single partition, this can cause serious performance degradation.\n",
      "25/09/03 15:37:52 WARN WindowExec: No Partition Defined for Window operation! Moving all data to a single partition, this can cause serious performance degradation.\n",
      "25/09/03 15:37:52 WARN WindowExec: No Partition Defined for Window operation! Moving all data to a single partition, this can cause serious performance degradation.\n",
      "25/09/03 15:37:52 WARN WindowExec: No Partition Defined for Window operation! Moving all data to a single partition, this can cause serious performance degradation.\n",
      "25/09/03 15:37:52 WARN WindowExec: No Partition Defined for Window operation! Moving all data to a single partition, this can cause serious performance degradation.\n",
      "25/09/03 15:37:52 WARN WindowExec: No Partition Defined for Window operation! Moving all data to a single partition, this can cause serious performance degradation.\n",
      "25/09/03 15:37:52 WARN WindowExec: No Partition Defined for Window operation! Moving all data to a single partition, this can cause serious performance degradation.\n",
      "25/09/03 15:37:52 WARN WindowExec: No Partition Defined for Window operation! Moving all data to a single partition, this can cause serious performance degradation.\n",
      "25/09/03 15:37:52 WARN WindowExec: No Partition Defined for Window operation! Moving all data to a single partition, this can cause serious performance degradation.\n",
      "25/09/03 15:37:52 WARN WindowExec: No Partition Defined for Window operation! Moving all data to a single partition, this can cause serious performance degradation.\n",
      "25/09/03 15:37:52 WARN WindowExec: No Partition Defined for Window operation! Moving all data to a single partition, this can cause serious performance degradation.\n",
      "25/09/03 15:37:52 WARN WindowExec: No Partition Defined for Window operation! Moving all data to a single partition, this can cause serious performance degradation.\n",
      "25/09/03 15:37:52 WARN WindowExec: No Partition Defined for Window operation! Moving all data to a single partition, this can cause serious performance degradation.\n",
      "25/09/03 15:37:52 WARN WindowExec: No Partition Defined for Window operation! Moving all data to a single partition, this can cause serious performance degradation.\n",
      "25/09/03 15:37:52 WARN WindowExec: No Partition Defined for Window operation! Moving all data to a single partition, this can cause serious performance degradation.\n",
      "25/09/03 15:37:52 WARN WindowExec: No Partition Defined for Window operation! Moving all data to a single partition, this can cause serious performance degradation.\n",
      "25/09/03 15:37:52 WARN WindowExec: No Partition Defined for Window operation! Moving all data to a single partition, this can cause serious performance degradation.\n",
      "25/09/03 15:37:52 WARN WindowExec: No Partition Defined for Window operation! Moving all data to a single partition, this can cause serious performance degradation.\n",
      "25/09/03 15:37:52 WARN WindowExec: No Partition Defined for Window operation! Moving all data to a single partition, this can cause serious performance degradation.\n",
      "25/09/03 15:37:52 WARN WindowExec: No Partition Defined for Window operation! Moving all data to a single partition, this can cause serious performance degradation.\n",
      "25/09/03 15:37:52 WARN WindowExec: No Partition Defined for Window operation! Moving all data to a single partition, this can cause serious performance degradation.\n",
      "25/09/03 15:37:52 WARN WindowExec: No Partition Defined for Window operation! Moving all data to a single partition, this can cause serious performance degradation.\n",
      "25/09/03 15:37:52 WARN WindowExec: No Partition Defined for Window operation! Moving all data to a single partition, this can cause serious performance degradation.\n",
      "25/09/03 15:37:52 WARN WindowExec: No Partition Defined for Window operation! Moving all data to a single partition, this can cause serious performance degradation.\n",
      "25/09/03 15:37:52 WARN WindowExec: No Partition Defined for Window operation! Moving all data to a single partition, this can cause serious performance degradation.\n",
      "25/09/03 15:37:52 WARN WindowExec: No Partition Defined for Window operation! Moving all data to a single partition, this can cause serious performance degradation.\n",
      "25/09/03 15:37:52 WARN WindowExec: No Partition Defined for Window operation! Moving all data to a single partition, this can cause serious performance degradation.\n",
      "25/09/03 15:37:52 WARN WindowExec: No Partition Defined for Window operation! Moving all data to a single partition, this can cause serious performance degradation.\n"
     ]
    },
    {
     "name": "stdout",
     "output_type": "stream",
     "text": [
      "+----------+---------+-----+----+\n",
      "|first_name|last_name|count|rank|\n",
      "+----------+---------+-----+----+\n",
      "|   RICHARD|     PENN|    9|   1|\n",
      "|      EWAN|  GOODING|    9|   1|\n",
      "|    SIDNEY|    CROWE|    9|   1|\n",
      "|      JADA|    RYDER|    8|   2|\n",
      "|   SPENCER|     PECK|    8|   2|\n",
      "|   MATTHEW|   CARREY|    8|   2|\n",
      "|      ALEC|    WAYNE|    8|   2|\n",
      "|       KIM|    ALLEN|    8|   2|\n",
      "|       DAN|   HARRIS|    8|   2|\n",
      "|      JANE|  JACKMAN|    8|   2|\n",
      "|   RUSSELL|   TEMPLE|    8|   2|\n",
      "|      MARY|    TANDY|    8|   2|\n",
      "|    MINNIE|ZELLWEGER|    7|   3|\n",
      "|    ANGELA|   HUDSON|    7|   3|\n",
      "|    WARREN|    NOLTE|    7|   3|\n",
      "|    AUDREY|  OLIVIER|    7|   3|\n",
      "|   KENNETH|     TORN|    7|   3|\n",
      "|      GENE|   WILLIS|    7|   3|\n",
      "|     HELEN|   VOIGHT|    7|   3|\n",
      "|     JAMES|     PITT|    7|   3|\n",
      "|     DARYL| WAHLBERG|    7|   3|\n",
      "|  JULIANNE|    DENCH|    7|   3|\n",
      "+----------+---------+-----+----+\n",
      "\n"
     ]
    },
    {
     "name": "stderr",
     "output_type": "stream",
     "text": [
      "25/09/03 15:37:52 WARN WindowExec: No Partition Defined for Window operation! Moving all data to a single partition, this can cause serious performance degradation.\n",
      "25/09/03 15:37:52 WARN WindowExec: No Partition Defined for Window operation! Moving all data to a single partition, this can cause serious performance degradation.\n"
     ]
    }
   ],
   "execution_count": 160
  },
  {
   "metadata": {},
   "cell_type": "markdown",
   "source": "**6 Task** Output cities with the number of active and inactive customers (active - customer.active = 1). Sort by the number of inactive customers in descending order.",
   "id": "1f2f947a237fb09c"
  },
  {
   "metadata": {
    "ExecuteTime": {
     "end_time": "2025-09-03T13:37:53.079794Z",
     "start_time": "2025-09-03T13:37:52.887015Z"
    }
   },
   "cell_type": "code",
   "source": [
    "task_5_result=customer.select(\"active\",\"address_id\").join(other=address,on=\"address_id\",how=\"inner\")\\\n",
    "                      .withColumn(\"inactive\", 1 - col(\"active\"))\n",
    "task_5_result=task_5_result.join(other=city,on=\"city_id\",how=\"inner\").orderBy(col(\"inactive\").desc())\\\n",
    "                           .select(\"city\",\"active\",\"inactive\").distinct()\n",
    "task_5_result.show()"
   ],
   "id": "b94d0213d6b685b0",
   "outputs": [
    {
     "name": "stdout",
     "output_type": "stream",
     "text": [
      "+-----------+------+--------+\n",
      "|       city|active|inactive|\n",
      "+-----------+------+--------+\n",
      "|  Liaocheng|     1|       0|\n",
      "|       Otsu|     1|       0|\n",
      "|     Yantai|     1|       0|\n",
      "|     Tabriz|     1|       0|\n",
      "|       Vinh|     1|       0|\n",
      "|      Laiwu|     1|       0|\n",
      "|      Beira|     1|       0|\n",
      "|    Uruapan|     1|       0|\n",
      "|   Xiangfan|     0|       1|\n",
      "|     London|     1|       0|\n",
      "|      Sucre|     1|       0|\n",
      "|    Memphis|     1|       0|\n",
      "|  Newcastle|     1|       0|\n",
      "|    Balaiha|     1|       0|\n",
      "|    Bat Yam|     0|       1|\n",
      "|Gandhinagar|     1|       0|\n",
      "|      Cuman|     1|       0|\n",
      "| al-Qadarif|     1|       0|\n",
      "|  Halisahar|     1|       0|\n",
      "| Portoviejo|     1|       0|\n",
      "+-----------+------+--------+\n",
      "only showing top 20 rows\n"
     ]
    }
   ],
   "execution_count": 161
  },
  {
   "metadata": {},
   "cell_type": "markdown",
   "source": "**7 Task** Output the category of movies that have the highest number of total rental hours in the cities (customer.address_id in this city), and that start with the letter “a”. Do the same for cities with a “-” symbol.",
   "id": "b4544f4d8a923876"
  },
  {
   "metadata": {
    "ExecuteTime": {
     "end_time": "2025-09-03T13:37:53.666779Z",
     "start_time": "2025-09-03T13:37:53.094618Z"
    }
   },
   "cell_type": "code",
   "outputs": [
    {
     "name": "stdout",
     "output_type": "stream",
     "text": [
      "+---------+--------+----------+\n",
      "|city_type|category|total_time|\n",
      "+---------+--------+----------+\n",
      "|        -|   Drama|       581|\n",
      "|        A|Children|      1017|\n",
      "+---------+--------+----------+\n",
      "\n"
     ]
    }
   ],
   "execution_count": 162,
   "source": [
    "film_time = rental.join(other=inventory,on=\"inventory_id\",how=\"inner\")\\\n",
    "                .join(other=film_category,on=\"film_id\",how=\"inner\")\\\n",
    "                .join(other=category,on=\"category_id\",how=\"inner\")\\\n",
    "                .withColumn(\"time\",col(\"return_date\").cast(\"long\")-col(\"rental_date\").cast(\"long\"))\\\n",
    "                .select(\"customer_id\",\"name\",\"time\").withColumnRenamed(\"name\",\"category\")\n",
    "\n",
    "\n",
    "city_category_time = film_time.join(other=customer,on=\"customer_id\",how=\"inner\")\\\n",
    "                            .join(other=address,on=\"address_id\",how=\"inner\")\\\n",
    "                            .join(other=city,on=\"city_id\",how=\"inner\")\\\n",
    "                            .groupBy(\"city\",\"category\").sum(\"time\")\\\n",
    "                            .select(\"city\",\"category\",\"sum(time)\")\n",
    "\n",
    "city_category_max_time = city_category_time.withColumn(\"city_type\",when(col(\"city\").startswith(\"A\"),\"A\")\\\n",
    "                                                       .when(col(\"city\").contains(\"-\"),\"-\")\\\n",
    "                                                       .otherwise(None))\n",
    "window2=Window.orderBy(col(\"total_time\").desc()).partitionBy(\"city_type\")\n",
    "ranked=city_category_max_time.groupby(\"city_type\",\"category\").sum(\"sum(time)\")\\\n",
    "                             .withColumnRenamed(\"sum(sum(time))\",\"total_time\")\\\n",
    "                             .withColumn(\"rank\",rank().over(window2))\\\n",
    "                             .filter((col(\"rank\")==1) & ((col(\"city_type\")==\"A\") | (col(\"city_type\")==\"-\")))\\\n",
    "                             .select(\"city_type\",\"category\",((col(\"total_time\")/60/60/24).cast(\"int\")).alias(\"total_time\"))\n",
    "ranked.show()\n",
    "\n"
   ],
   "id": "48f45093ebb2b18e"
  }
 ],
 "metadata": {
  "kernelspec": {
   "name": "python3",
   "language": "python",
   "display_name": "Python 3 (ipykernel)"
  }
 },
 "nbformat": 4,
 "nbformat_minor": 5
}
